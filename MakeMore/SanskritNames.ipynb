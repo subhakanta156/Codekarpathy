{
 "cells": [
  {
   "cell_type": "code",
   "execution_count": 2,
   "metadata": {},
   "outputs": [],
   "source": [
    "import json\n",
    "import os\n",
    "\n",
    "def extract_names_from_json(json_file):\n",
    "    with open(json_file, 'r', encoding='utf-8') as f:\n",
    "        data = json.load(f)\n",
    "        # Extract names from the JSON structure\n",
    "        names = []\n",
    "        for item in data:\n",
    "            if 'names' in item:\n",
    "                names.extend(item['names'])\n",
    "        \n",
    "        # Process names: take first word and convert to lowercase\n",
    "        processed_names = [name.split()[0].lower() for name in names]\n",
    "        return processed_names\n",
    "\n",
    "def main():\n",
    "    # Directory where JSON files are located\n",
    "    directory = os.getcwd()\n",
    "    \n",
    "    # List to store all processed names\n",
    "    all_names = []\n",
    "    \n",
    "    # Process all JSON files named names1.json, names2.json, names3.json\n",
    "    for i in range(1, 4):\n",
    "        json_file = os.path.join(directory, f'names{i}.json')\n",
    "        if os.path.exists(json_file):\n",
    "            names = extract_names_from_json(json_file)\n",
    "            all_names.extend(names)\n",
    "    \n",
    "    # Save processed names to output.txt\n",
    "    output_file = os.path.join(directory, 'sanskrit_names.txt')\n",
    "    with open(output_file, 'w', encoding='utf-8') as f:\n",
    "        for name in all_names:\n",
    "            f.write(name + '\\n')\n",
    "\n",
    "if __name__ == \"__main__\":\n",
    "    main()"
   ]
  },
  {
   "cell_type": "code",
   "execution_count": null,
   "metadata": {},
   "outputs": [],
   "source": []
  }
 ],
 "metadata": {
  "kernelspec": {
   "display_name": "karpathy",
   "language": "python",
   "name": "python3"
  },
  "language_info": {
   "codemirror_mode": {
    "name": "ipython",
    "version": 3
   },
   "file_extension": ".py",
   "mimetype": "text/x-python",
   "name": "python",
   "nbconvert_exporter": "python",
   "pygments_lexer": "ipython3",
   "version": "3.10.16"
  }
 },
 "nbformat": 4,
 "nbformat_minor": 2
}
